{
 "cells": [
  {
   "cell_type": "code",
   "execution_count": 1,
   "id": "fefb4fa6-9937-422c-a5b8-e110798f9047",
   "metadata": {},
   "outputs": [
    {
     "name": "stdout",
     "output_type": "stream",
     "text": [
      "Requirement already satisfied: pandas in c:\\users\\dishe\\anaconda3\\lib\\site-packages (2.2.2)\n",
      "Requirement already satisfied: numpy>=1.26.0 in c:\\users\\dishe\\anaconda3\\lib\\site-packages (from pandas) (1.26.4)\n",
      "Requirement already satisfied: python-dateutil>=2.8.2 in c:\\users\\dishe\\anaconda3\\lib\\site-packages (from pandas) (2.9.0.post0)\n",
      "Requirement already satisfied: pytz>=2020.1 in c:\\users\\dishe\\anaconda3\\lib\\site-packages (from pandas) (2024.1)\n",
      "Requirement already satisfied: tzdata>=2022.7 in c:\\users\\dishe\\anaconda3\\lib\\site-packages (from pandas) (2023.3)\n",
      "Requirement already satisfied: six>=1.5 in c:\\users\\dishe\\anaconda3\\lib\\site-packages (from python-dateutil>=2.8.2->pandas) (1.16.0)\n",
      "Note: you may need to restart the kernel to use updated packages.\n"
     ]
    }
   ],
   "source": [
    "pip install pandas\n"
   ]
  },
  {
   "cell_type": "code",
   "execution_count": 2,
   "id": "affc931e-05b0-46bb-b030-201b7f3fd741",
   "metadata": {},
   "outputs": [
    {
     "name": "stdout",
     "output_type": "stream",
     "text": [
      "INNER JOIN - Employee and Jobs:\n",
      "  F_NAME  L_NAME             JOB_TITLE\n",
      "0   John  Thomas         Sr. Architect\n",
      "1  Alice   James  Sr.SoftwareDeveloper\n",
      "2  Steve   Wells  Jr.SoftwareDeveloper\n",
      "\n",
      "LEFT JOIN - Employees and Job History:\n",
      "  F_NAME  L_NAME  START_DATE  JOBS_ID\n",
      "0   John  Thomas  2000-01-30      100\n",
      "1  Alice   James  2010-08-16      200\n",
      "2  Steve   Wells  2016-08-10      300\n",
      "\n",
      "RIGHT JOIN - Job History and Employees:\n",
      "  EMP_ID F_NAME  L_NAME  START_DATE\n",
      "0  E1001   John  Thomas  2000-01-30\n",
      "1  E1002  Alice   James  2010-08-16\n",
      "2  E1003  Steve   Wells  2016-08-10\n",
      "\n",
      "FULL OUTER JOIN - Departments and Locations:\n",
      "               DEP_NAME LOCT_ID\n",
      "0       Architect Group   L0001\n",
      "1  Software Development   L0002\n",
      "2           Design Team   L0003\n"
     ]
    }
   ],
   "source": [
    "import pandas as pd\n",
    "\n",
    "# EMPLOYEES table\n",
    "employees = pd.DataFrame({\n",
    "    'EMP_ID': ['E1001', 'E1002', 'E1003'],\n",
    "    'F_NAME': ['John', 'Alice', 'Steve'],\n",
    "    'L_NAME': ['Thomas', 'James', 'Wells'],\n",
    "    'JOB_ID': [100, 200, 300],\n",
    "    'SALARY': [100000, 80000, 50000],\n",
    "    'MANAGER_ID': [30001, 30002, 30002],\n",
    "    'DEP_ID': [2, 5, 5]\n",
    "})\n",
    "\n",
    "# JOBS table\n",
    "jobs = pd.DataFrame({\n",
    "    'JOB_IDENT': [100, 200, 300],\n",
    "    'JOB_TITLE': ['Sr. Architect', 'Sr.SoftwareDeveloper', 'Jr.SoftwareDeveloper'],\n",
    "    'MIN_SALARY': [60000, 60000, 40000],\n",
    "    'MAX_SALARY': [100000, 80000, 60000]\n",
    "})\n",
    "\n",
    "# JOB_HISTORY table\n",
    "job_history = pd.DataFrame({\n",
    "    'EMPL_ID': ['E1001', 'E1002', 'E1003'],\n",
    "    'START_DATE': ['2000-01-30', '2010-08-16', '2016-08-10'],\n",
    "    'JOBS_ID': [100, 200, 300],\n",
    "    'DEPT_ID': [2, 5, 5]\n",
    "})\n",
    "\n",
    "# DEPARTMENTS table\n",
    "departments = pd.DataFrame({\n",
    "    'DEPT_ID_DEP': [2, 5, 7],\n",
    "    'DEP_NAME': ['Architect Group', 'Software Development', 'Design Team'],\n",
    "    'MANAGER_ID': [30001, 30002, 30003],\n",
    "    'LOC_ID': ['L0001', 'L0002', 'L0003']\n",
    "})\n",
    "\n",
    "# LOCATIONS table\n",
    "locations = pd.DataFrame({\n",
    "    'LOCT_ID': ['L0001', 'L0002', 'L0003'],\n",
    "    'DEP_ID_LOC': [2, 5, 7]\n",
    "})\n",
    "\n",
    "# 1. INNER JOIN (employees and jobs)\n",
    "emp_jobs = pd.merge(employees, jobs, how='inner', left_on='JOB_ID', right_on='JOB_IDENT')\n",
    "print(\"INNER JOIN - Employee and Jobs:\")\n",
    "print(emp_jobs[['F_NAME', 'L_NAME', 'JOB_TITLE']])\n",
    "\n",
    "# 2. LEFT JOIN (employees and job_history)\n",
    "emp_history = pd.merge(employees, job_history, how='left', left_on='EMP_ID', right_on='EMPL_ID')\n",
    "print(\"\\nLEFT JOIN - Employees and Job History:\")\n",
    "print(emp_history[['F_NAME', 'L_NAME', 'START_DATE', 'JOBS_ID']])\n",
    "\n",
    "# 3. RIGHT JOIN (job_history and employees)\n",
    "history_emp = pd.merge(job_history, employees, how='right', left_on='EMPL_ID', right_on='EMP_ID')\n",
    "print(\"\\nRIGHT JOIN - Job History and Employees:\")\n",
    "print(history_emp[['EMP_ID', 'F_NAME', 'L_NAME', 'START_DATE']])\n",
    "\n",
    "# 4. FULL OUTER JOIN (departments and locations)\n",
    "dept_location = pd.merge(departments, locations, how='outer', left_on='DEPT_ID_DEP', right_on='DEP_ID_LOC')\n",
    "print(\"\\nFULL OUTER JOIN - Departments and Locations:\")\n",
    "print(dept_location[['DEP_NAME', 'LOCT_ID']])\n"
   ]
  },
  {
   "cell_type": "code",
   "execution_count": 3,
   "id": "834d96a1-4b0a-4241-b8d6-202f39ce465e",
   "metadata": {},
   "outputs": [
    {
     "name": "stdout",
     "output_type": "stream",
     "text": [
      "  F_NAME  L_NAME             JOB_TITLE\n",
      "0   John  Thomas         Sr. Architect\n",
      "1  Alice   James  Sr.SoftwareDeveloper\n",
      "2  Steve   Wells  Jr.SoftwareDeveloper\n"
     ]
    }
   ],
   "source": [
    "emp_jobs = pd.merge(employees, jobs, how='inner', left_on='JOB_ID', right_on='JOB_IDENT')\n",
    "print(emp_jobs[['F_NAME', 'L_NAME', 'JOB_TITLE']])\n"
   ]
  },
  {
   "cell_type": "code",
   "execution_count": 4,
   "id": "813a3dcf-5493-43bd-bd26-70682b8d1e18",
   "metadata": {},
   "outputs": [
    {
     "name": "stdout",
     "output_type": "stream",
     "text": [
      "  F_NAME  L_NAME  START_DATE  JOBS_ID\n",
      "0   John  Thomas  2000-01-30      100\n",
      "1  Alice   James  2010-08-16      200\n",
      "2  Steve   Wells  2016-08-10      300\n"
     ]
    }
   ],
   "source": [
    "emp_history = pd.merge(employees, job_history, how='left', left_on='EMP_ID', right_on='EMPL_ID')\n",
    "print(emp_history[['F_NAME', 'L_NAME', 'START_DATE', 'JOBS_ID']])\n"
   ]
  },
  {
   "cell_type": "code",
   "execution_count": 5,
   "id": "df1022f4-a179-4003-bfd5-5bc8aa975ece",
   "metadata": {},
   "outputs": [
    {
     "name": "stdout",
     "output_type": "stream",
     "text": [
      "  EMP_ID F_NAME  L_NAME  START_DATE\n",
      "0  E1001   John  Thomas  2000-01-30\n",
      "1  E1002  Alice   James  2010-08-16\n",
      "2  E1003  Steve   Wells  2016-08-10\n"
     ]
    }
   ],
   "source": [
    "history_emp = pd.merge(job_history, employees, how='right', left_on='EMPL_ID', right_on='EMP_ID')\n",
    "print(history_emp[['EMP_ID', 'F_NAME', 'L_NAME', 'START_DATE']])\n"
   ]
  },
  {
   "cell_type": "code",
   "execution_count": 6,
   "id": "6744bff3-ded7-4bd3-9930-795b824c2166",
   "metadata": {},
   "outputs": [
    {
     "name": "stdout",
     "output_type": "stream",
     "text": [
      "               DEP_NAME LOCT_ID\n",
      "0       Architect Group   L0001\n",
      "1  Software Development   L0002\n",
      "2           Design Team   L0003\n"
     ]
    }
   ],
   "source": [
    "dept_location = pd.merge(departments, locations, how='outer', left_on='DEPT_ID_DEP', right_on='DEP_ID_LOC')\n",
    "print(dept_location[['DEP_NAME', 'LOCT_ID']])\n"
   ]
  },
  {
   "cell_type": "code",
   "execution_count": null,
   "id": "773e176a-8f37-4201-a472-3c222e0f5b83",
   "metadata": {},
   "outputs": [],
   "source": []
  }
 ],
 "metadata": {
  "kernelspec": {
   "display_name": "Python 3 (ipykernel)",
   "language": "python",
   "name": "python3"
  },
  "language_info": {
   "codemirror_mode": {
    "name": "ipython",
    "version": 3
   },
   "file_extension": ".py",
   "mimetype": "text/x-python",
   "name": "python",
   "nbconvert_exporter": "python",
   "pygments_lexer": "ipython3",
   "version": "3.12.7"
  }
 },
 "nbformat": 4,
 "nbformat_minor": 5
}
